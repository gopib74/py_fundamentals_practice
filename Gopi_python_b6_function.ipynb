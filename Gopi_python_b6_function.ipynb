{
 "cells": [
  {
   "cell_type": "code",
   "execution_count": 1,
   "metadata": {},
   "outputs": [],
   "source": [
    "#Functions in python\n",
    "#to define a function use 'def' key word\n",
    "def say_hello():\n",
    "    \"\"\"Display simple hello\"\"\" #doc string. commenting inside the function\n",
    "    print('Hello')"
   ]
  },
  {
   "cell_type": "code",
   "execution_count": 2,
   "metadata": {},
   "outputs": [
    {
     "name": "stdout",
     "output_type": "stream",
     "text": [
      "Hello\n"
     ]
    }
   ],
   "source": [
    "say_hello()"
   ]
  },
  {
   "cell_type": "code",
   "execution_count": 3,
   "metadata": {},
   "outputs": [],
   "source": [
    "def end_of_shopping(username):\n",
    "    \"\"\"Display sendoff message after shopping\"\"\"\n",
    "    print(f'Thanks for shopping {username.title()}. Visit again')"
   ]
  },
  {
   "cell_type": "code",
   "execution_count": 5,
   "metadata": {},
   "outputs": [
    {
     "name": "stdout",
     "output_type": "stream",
     "text": [
      "Thanks for shopping James. Visit again\n"
     ]
    }
   ],
   "source": [
    "end_of_shopping('james')"
   ]
  },
  {
   "cell_type": "code",
   "execution_count": 6,
   "metadata": {},
   "outputs": [],
   "source": [
    "#positional arguments\n",
    "def car_det(vehicle_type, vehicle_brand):\n",
    "    \"\"\"print car information\"\"\"\n",
    "    print(f'I have a {vehicle_type}')\n",
    "    print(f'My {vehicle_type} brand is {vehicle_brand} ')"
   ]
  },
  {
   "cell_type": "code",
   "execution_count": 7,
   "metadata": {},
   "outputs": [
    {
     "name": "stdout",
     "output_type": "stream",
     "text": [
      "I have a car\n",
      "My car brand is toyota \n"
     ]
    }
   ],
   "source": [
    "car_det('car','toyota')"
   ]
  },
  {
   "cell_type": "code",
   "execution_count": 8,
   "metadata": {},
   "outputs": [
    {
     "name": "stdout",
     "output_type": "stream",
     "text": [
      "I have a tata\n",
      "My tata brand is car \n"
     ]
    }
   ],
   "source": [
    "car_det('tata','car')#positions are changed here so the complete functionality of function getting changed\n",
    "#so these are called positional arguments"
   ]
  },
  {
   "cell_type": "code",
   "execution_count": 9,
   "metadata": {},
   "outputs": [
    {
     "name": "stdout",
     "output_type": "stream",
     "text": [
      "I have a car\n",
      "My car brand is tata \n"
     ]
    }
   ],
   "source": [
    "car_det(vehicle_brand='tata',vehicle_type='car')#these are key-word arguments"
   ]
  },
  {
   "cell_type": "code",
   "execution_count": null,
   "metadata": {},
   "outputs": [],
   "source": []
  }
 ],
 "metadata": {
  "kernelspec": {
   "display_name": "Python 3",
   "language": "python",
   "name": "python3"
  },
  "language_info": {
   "codemirror_mode": {
    "name": "ipython",
    "version": 3
   },
   "file_extension": ".py",
   "mimetype": "text/x-python",
   "name": "python",
   "nbconvert_exporter": "python",
   "pygments_lexer": "ipython3",
   "version": "3.7.4"
  }
 },
 "nbformat": 4,
 "nbformat_minor": 2
}
