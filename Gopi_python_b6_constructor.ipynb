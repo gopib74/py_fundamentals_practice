{
 "cells": [
  {
   "cell_type": "code",
   "execution_count": 1,
   "metadata": {},
   "outputs": [],
   "source": [
    "#Constructor\n",
    "\n",
    "class fruits:\n",
    "    def __init__(self):\n",
    "        print(\"This is a constructor\")\n",
    "        print(\"This also prints\")\n",
    "        \n",
    "    def mango(self):\n",
    "        print(\"This is yello\")\n",
    "        \n",
    "    def orange(self):\n",
    "        print(\"This is orange\")"
   ]
  },
  {
   "cell_type": "code",
   "execution_count": 2,
   "metadata": {},
   "outputs": [
    {
     "name": "stdout",
     "output_type": "stream",
     "text": [
      "This is a constructor\n",
      "This also prints\n"
     ]
    }
   ],
   "source": [
    "fr = fruits()"
   ]
  },
  {
   "cell_type": "code",
   "execution_count": 3,
   "metadata": {},
   "outputs": [
    {
     "name": "stdout",
     "output_type": "stream",
     "text": [
      "Write your name here:Suresh\n",
      "Suresh\n"
     ]
    }
   ],
   "source": [
    "#User inputs\n",
    "\n",
    "dip_msg = input(\"Write your name here:\")\n",
    "print(dip_msg)"
   ]
  },
  {
   "cell_type": "code",
   "execution_count": 7,
   "metadata": {},
   "outputs": [
    {
     "name": "stdout",
     "output_type": "stream",
     "text": [
      "Write your name here:suresh\n",
      "your name is: Suresh\n"
     ]
    }
   ],
   "source": [
    "print_name = input(\"Write your name here:\")\n",
    "print(f\"your name is: {print_name.title()}\")"
   ]
  },
  {
   "cell_type": "code",
   "execution_count": 11,
   "metadata": {},
   "outputs": [
    {
     "name": "stdout",
     "output_type": "stream",
     "text": [
      "Enter your year of birth:1985\n",
      "your age is: 34\n",
      "you are major\n"
     ]
    }
   ],
   "source": [
    "#age caliculator\n",
    "age = input(\"Enter your year of birth:\")\n",
    "age_now = 2019 - int(age)\n",
    "print(f\"your age is: {age_now}\")\n",
    "\n",
    "if age_now < 18:\n",
    "    print(\"you are minor\")\n",
    "else:\n",
    "    print(\"you are major\")"
   ]
  },
  {
   "cell_type": "code",
   "execution_count": 17,
   "metadata": {},
   "outputs": [
    {
     "name": "stdout",
     "output_type": "stream",
     "text": [
      "Enter one number:147548\n",
      "This is even number\n"
     ]
    }
   ],
   "source": [
    "#odd or even\n",
    "num = input(\"Enter one number:\")\n",
    "if int(num) % 2 == 0:\n",
    "    print('This is even number')\n",
    "else:\n",
    "    print(\"This is odd number\")"
   ]
  },
  {
   "cell_type": "code",
   "execution_count": 25,
   "metadata": {},
   "outputs": [
    {
     "name": "stdout",
     "output_type": "stream",
     "text": [
      "Enter second number: 5\n",
      "5 * 1 = 5\n",
      "5 * 2 = 10\n",
      "5 * 3 = 15\n",
      "5 * 4 = 20\n",
      "5 * 5 = 25\n",
      "5 * 6 = 30\n",
      "5 * 7 = 35\n",
      "5 * 8 = 40\n",
      "5 * 9 = 45\n",
      "5 * 10 = 50\n"
     ]
    }
   ],
   "source": [
    "#While loop\n",
    "num1 = 1#int(input(\"Enter first number: \"))\n",
    "num2 = int(input(\"Enter second number: \"))\n",
    "while num1 <= 10:\n",
    "    num3 = num1 * num2\n",
    "    print(f\"{num2} * {num1} = {num3}\")\n",
    "    num1 += 1"
   ]
  },
  {
   "cell_type": "code",
   "execution_count": null,
   "metadata": {},
   "outputs": [],
   "source": []
  }
 ],
 "metadata": {
  "kernelspec": {
   "display_name": "Python 3",
   "language": "python",
   "name": "python3"
  },
  "language_info": {
   "codemirror_mode": {
    "name": "ipython",
    "version": 3
   },
   "file_extension": ".py",
   "mimetype": "text/x-python",
   "name": "python",
   "nbconvert_exporter": "python",
   "pygments_lexer": "ipython3",
   "version": "3.7.4"
  }
 },
 "nbformat": 4,
 "nbformat_minor": 2
}
