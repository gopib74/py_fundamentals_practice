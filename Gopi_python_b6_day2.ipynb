{
 "cells": [
  {
   "cell_type": "code",
   "execution_count": 1,
   "metadata": {},
   "outputs": [
    {
     "name": "stdout",
     "output_type": "stream",
     "text": [
      "Your name is Suresh\n"
     ]
    }
   ],
   "source": [
    "'''Today is python fundamentals day 2\n",
    "f String, placeholder and comments\n",
    "'''\n",
    "name = 'Suresh'\n",
    "print(f\"Your name is {name}\")"
   ]
  },
  {
   "cell_type": "code",
   "execution_count": 2,
   "metadata": {},
   "outputs": [
    {
     "name": "stdout",
     "output_type": "stream",
     "text": [
      "Your name is SURESH\n"
     ]
    }
   ],
   "source": [
    "print(f\"Your name is {name.upper()}\")"
   ]
  },
  {
   "cell_type": "code",
   "execution_count": 5,
   "metadata": {},
   "outputs": [
    {
     "name": "stdout",
     "output_type": "stream",
     "text": [
      "This is example for 'tab': \tpython\n"
     ]
    }
   ],
   "source": [
    "print(\"This is example for 'tab': \\tpython\")#tab delimeter"
   ]
  },
  {
   "cell_type": "code",
   "execution_count": 6,
   "metadata": {},
   "outputs": [
    {
     "name": "stdout",
     "output_type": "stream",
     "text": [
      "This is example for 'new line': \n",
      "python\n"
     ]
    }
   ],
   "source": [
    "print(\"This is example for 'new line': \\npython\")#new line"
   ]
  },
  {
   "cell_type": "code",
   "execution_count": 10,
   "metadata": {},
   "outputs": [
    {
     "name": "stdout",
     "output_type": "stream",
     "text": [
      "White spaces      need to remove\n"
     ]
    }
   ],
   "source": [
    "#stripping white spaces\n",
    "word1 = 'White spaces     '\n",
    "word2 = ' need to remove'\n",
    "print(word1 + word2)"
   ]
  },
  {
   "cell_type": "code",
   "execution_count": 11,
   "metadata": {},
   "outputs": [
    {
     "name": "stdout",
     "output_type": "stream",
     "text": [
      "White spaces need to remove\n"
     ]
    }
   ],
   "source": [
    "print(word1.rstrip() + word2)"
   ]
  },
  {
   "cell_type": "code",
   "execution_count": 12,
   "metadata": {},
   "outputs": [
    {
     "name": "stdout",
     "output_type": "stream",
     "text": [
      "White spacesneed to remove\n"
     ]
    }
   ],
   "source": [
    "print(word1.rstrip() + word2.lstrip())"
   ]
  },
  {
   "cell_type": "code",
   "execution_count": 13,
   "metadata": {},
   "outputs": [
    {
     "name": "stdout",
     "output_type": "stream",
     "text": [
      "White spaces need to remove\n"
     ]
    }
   ],
   "source": [
    "print(word1.rstrip() + ' ' +word2.lstrip())"
   ]
  },
  {
   "cell_type": "code",
   "execution_count": null,
   "metadata": {},
   "outputs": [],
   "source": []
  }
 ],
 "metadata": {
  "kernelspec": {
   "display_name": "Python 3",
   "language": "python",
   "name": "python3"
  },
  "language_info": {
   "codemirror_mode": {
    "name": "ipython",
    "version": 3
   },
   "file_extension": ".py",
   "mimetype": "text/x-python",
   "name": "python",
   "nbconvert_exporter": "python",
   "pygments_lexer": "ipython3",
   "version": "3.7.4"
  }
 },
 "nbformat": 4,
 "nbformat_minor": 2
}
