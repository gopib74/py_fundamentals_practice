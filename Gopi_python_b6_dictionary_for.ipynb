{
 "cells": [
  {
   "cell_type": "code",
   "execution_count": 6,
   "metadata": {},
   "outputs": [
    {
     "name": "stdout",
     "output_type": "stream",
     "text": [
      "{'cartype': 'sedan', 'carcompany': 'Honda', 'carmodel': 'accord'}\n"
     ]
    }
   ],
   "source": [
    "#for loop in dictionary\n",
    "car_brand = {'cartype' : 'sedan',\n",
    "    'carcompany':'Honda',\n",
    "    'carmodel':'accord'\n",
    "            }\n",
    "print(car_brand)"
   ]
  },
  {
   "cell_type": "code",
   "execution_count": 12,
   "metadata": {},
   "outputs": [
    {
     "name": "stdout",
     "output_type": "stream",
     "text": [
      "\n",
      "key: cartype\n",
      "value: sedan\n",
      "\n",
      "key: carcompany\n",
      "value: Honda\n",
      "\n",
      "key: carmodel\n",
      "value: accord\n"
     ]
    }
   ],
   "source": [
    "#for loop\n",
    "for key,value in car_brand.items():\n",
    "    print(f'\\nkey: {key}')\n",
    "    print(f'value: {value}')"
   ]
  },
  {
   "cell_type": "code",
   "execution_count": 13,
   "metadata": {},
   "outputs": [
    {
     "name": "stdout",
     "output_type": "stream",
     "text": [
      "key: cartype\n",
      "key: carcompany\n",
      "key: carmodel\n"
     ]
    }
   ],
   "source": [
    "#Only keys print using for loop in dictionary\n",
    "for key in car_brand.keys():\n",
    "    print(f'key: {key}')"
   ]
  },
  {
   "cell_type": "code",
   "execution_count": 14,
   "metadata": {},
   "outputs": [
    {
     "name": "stdout",
     "output_type": "stream",
     "text": [
      "value: sedan\n",
      "value: Honda\n",
      "value: accord\n"
     ]
    }
   ],
   "source": [
    "#Only values print using for loop in dictionary\n",
    "for value in car_brand.values():\n",
    "    print(f'value: {value}')"
   ]
  },
  {
   "cell_type": "code",
   "execution_count": 16,
   "metadata": {},
   "outputs": [
    {
     "name": "stdout",
     "output_type": "stream",
     "text": [
      "{'cartype': 'sedan', 'carcompany': 'Honda'}\n"
     ]
    }
   ],
   "source": [
    "#delete key, value pair from dictionary\n",
    "del car_brand['carmodel']\n",
    "print(car_brand)"
   ]
  },
  {
   "cell_type": "code",
   "execution_count": null,
   "metadata": {},
   "outputs": [],
   "source": []
  }
 ],
 "metadata": {
  "kernelspec": {
   "display_name": "Python 3",
   "language": "python",
   "name": "python3"
  },
  "language_info": {
   "codemirror_mode": {
    "name": "ipython",
    "version": 3
   },
   "file_extension": ".py",
   "mimetype": "text/x-python",
   "name": "python",
   "nbconvert_exporter": "python",
   "pygments_lexer": "ipython3",
   "version": "3.7.4"
  }
 },
 "nbformat": 4,
 "nbformat_minor": 2
}
